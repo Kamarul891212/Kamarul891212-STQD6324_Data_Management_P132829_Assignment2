{
 "cells": [
  {
   "cell_type": "markdown",
   "id": "27e5ff2c",
   "metadata": {},
   "source": [
    "# STQD6324\n",
    "\n",
    "# Assignment 2"
   ]
  },
  {
   "cell_type": "markdown",
   "id": "497f9f59",
   "metadata": {},
   "source": [
    "**Airline on-time performance**\n",
    "\n",
    "+ Have you ever found yourself stranded in an airport due to a delayed or cancelled flight, pondering if the situation could have been anticipated? This project offers an opportunity to explore such scenarios.\n",
    "\n",
    "+ In this project, you will use data from Kaggle: https://tinyurl.com/u8rzvdsx, encompassing airline performance data from 1995 to 2007. Each participant need to choose only one year for analysis.\n",
    "\n",
    "+ The challenge:\n",
    "Find answers to the following questions based on the data available on the website:\n",
    "\n",
    "+ What are the optimal times of day, days of the week, and times of the year for minimizing flight delays?\n",
    "+ What are the primary factors contributing to flight delays?\n",
    "+ What factors predominantly lead to flight cancellations?\n",
    "+ Which flight experiences the most frequent and significant delays and cancellations?\n",
    "\n",
    "+ For each question, utilize Pig or Hive to extract insights from the dataset and generate figures to explain your findings using Python or R. Please use your creativity to answer these questions, and you are encouraged to search online for ideas of how others have tackled similar challenges, such as on this link: https://tinyurl.com/bdejna9e.\n",
    "\n",
    "+ Please ensure that the scripts and codes used to generate your findings are included within\n",
    "the main report. You can use the Google Colab for this purpose. The submission deadline is\n",
    "May 31, 2024. Please share your work through GitHub"
   ]
  },
  {
   "cell_type": "markdown",
   "id": "3dbb2797",
   "metadata": {},
   "source": [
    "## Extract insights from the dataset"
   ]
  },
  {
   "cell_type": "markdown",
   "id": "afcfffe8",
   "metadata": {},
   "source": [
    "### Using Hive"
   ]
  },
  {
   "cell_type": "code",
   "execution_count": null,
   "id": "01a87391",
   "metadata": {},
   "outputs": [],
   "source": []
  }
 ],
 "metadata": {
  "kernelspec": {
   "display_name": "Python 3 (ipykernel)",
   "language": "python",
   "name": "python3"
  },
  "language_info": {
   "codemirror_mode": {
    "name": "ipython",
    "version": 3
   },
   "file_extension": ".py",
   "mimetype": "text/x-python",
   "name": "python",
   "nbconvert_exporter": "python",
   "pygments_lexer": "ipython3",
   "version": "3.11.5"
  }
 },
 "nbformat": 4,
 "nbformat_minor": 5
}
